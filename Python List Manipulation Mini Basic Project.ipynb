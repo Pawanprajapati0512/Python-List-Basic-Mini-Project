{
 "cells": [
  {
   "cell_type": "markdown",
   "id": "cc0af579",
   "metadata": {},
   "source": [
    "  # Python List [ ] Manipulation Basic Mini Project\n",
    "  ______________________________________________________________\n",
    "\n",
    "\n",
    "### 01) Change list elements\n",
    "\n",
    "### 02) Add list elements\n",
    "\n",
    "### 03) Remove list elements"
   ]
  },
  {
   "cell_type": "markdown",
   "id": "0e043461",
   "metadata": {},
   "source": [
    "\n",
    "*******************************************************************************************************\n",
    "########################################################################################################\n",
    "********************************************************************************************************\n",
    "\n",
    "# *The names of the grocery items given below are also in Hindi,*\n",
    "\n",
    "\n",
    "# *you can read it if you want.*\n",
    "\n",
    "\n",
    "\n",
    "## किराना_आइटम = [\n",
    "'सब्जियां आटिचोक',\n",
    "'आर्गुला',\n",
    "'शतावरी एवोकैडो',\n",
    "'बम्बोशूट्स',\n",
    "'बीट्स',\n",
    "'बेल मिर्च',\n",
    "'बोक चॉय',\n",
    "'ब्रॉकली',\n",
    "'ब्रसल स्प्राउट',\n",
    "'पत्ता गोभी',\n",
    "'गाजर',\n",
    "'कसावा',\n",
    "'फूलगोभी',\n",
    "'अजमोदा',\n",
    "'चर्ड',\n",
    "'हरा कोलार्ड',\n",
    "'भुट्टा',\n",
    "'क्रिसहेड लेट्यूस',\n",
    "'खीरा',\n",
    "'डायकॉन',\n",
    "'बैंगन',\n",
    "'विलायती',\n",
    "'लहसुन',\n",
    "'अदरक',\n",
    "'गर्म काली मिर्च',\n",
    "'जिकामा काले कोहलबी',\n",
    "'लीफ लेट्यूस मशरूम नोपेल्स',\n",
    "'ओकरा',\n",
    "'प्याज',\n",
    "'मटर',\n",
    "'आलू',\n",
    "'मूली',\n",
    "'रेडिचियो',\n",
    "'रोमेन लेट्यूस शालोट्स/लीक्स',\n",
    "'पालक',\n",
    "'अंकुरित',\n",
    "'स्क्वाश',\n",
    "'मीठे आलू',\n",
    "'तारो',\n",
    "'टमाटिलो टमाटर',\n",
    "'घर के सामान की सूची',\n",
    "'मात्रा आइटम',\n",
    "'मकाडामिया',\n",
    "'मूंगफली',\n",
    "'पेकान',\n",
    "'पाइन नट्स',\n",
    "'पिसता',\n",
    "'अखरोट',\n",
    "'बीज',\n",
    "'सन कमल कद्दू सूरजमुखी',\n",
    "'बीयर',\n",
    "'क्लब सोडा/टॉनिक इलेक्ट्रोलाइट वाटर',\n",
    "'रस',\n",
    "'कोम्बुचा',\n",
    "'शराब',\n",
    "'मिक्सर',\n",
    "'सोडा पॉप स्पोर्ट्स ड्रिंक वाइन',\n",
    "'डेयरी और पनीर बादाम मक्खन बादाम दूध ब्लू पनीर मक्खन',\n",
    "'क्रीम/सोया क्रीमर',\n",
    "'फेटा',\n",
    "'मार्जरीन/सोया मार्ग।',\n",
    "'दूध/सोया दूध मोत्ज़ारेला',\n",
    "'परमेसन प्रोवोलोन राइस मिल्क रिकोटा सैंडविच स्लाइस खट्टा क्रीम स्विस',\n",
    "'व्हिप्ड टॉपिंग योगर्ट/सोया योगर्ट',\n",
    "'जमा हुआ',\n",
    "'फ्राइज़ / टेटर टॉट्स',\n",
    "'आइसक्रीम/सोया आई.सी. फाइल/पफ पेस्ट्री',\n",
    "'पोंसिकल्स',\n",
    "'अनाज',\n",
    "'चाय',\n",
    "'कॉफ़ी/फ़िल्टर',\n",
    "'फ्री-रेंज एग एग सब्स्टीट्यूट लेमन',\n",
    "'पास्ता अचार ताहिनी चाय',\n",
    "'टेम्पेह टोफू टीवीपी',\n",
    "'वेजी डॉग्स बेक्ड',\n",
    "'बैगल्स/क्रॉइसैंट्स',\n",
    "'बन्स/रोल्स केक',\n",
    "'डोनट्स/पेस्ट्री फ्रेश/स्लाइस्ड ब्रेड पाई! पाई! पाई! पिट्स',\n",
    "'केक आइसिंग/डेकोरेशन केक/ब्राउनी मिक्स चॉकलेट चिप्स/कोकोआ आटा',\n",
    "'स्टीविया',\n",
    "'चीनी',\n",
    "'शुगर सब्स्टीट्यूट वेजिटेबल शॉर्टनिंग यीस्ट',\n",
    "'सिरका',\n",
    "'एप्पल साइडर सिरका बाल्समिक सिरका रेड वाइन सिरका चावल सिरका तेल',\n",
    "'तिल का तेल',\n",
    "'जतुन तेल'\n",
    "]"
   ]
  },
  {
   "cell_type": "code",
   "execution_count": 35,
   "id": "b2b6afd4",
   "metadata": {},
   "outputs": [],
   "source": [
    "grocery_items = [\n",
    "'Vegetable Artichok',\n",
    "'Arugula',\n",
    "'Asparagus Avocado',\n",
    "'Bamboshoots',\n",
    "'Beets',\n",
    "'Bell peppers',\n",
    "'Bok choy',\n",
    "'Broccoli',\n",
    "'Brussels sprouts',\n",
    "'Cabbage',\n",
    "'Carrots',\n",
    "'Cassava',\n",
    "'Cauliflower',\n",
    "'Celery',\n",
    "'Chard',\n",
    "'Collard greens',\n",
    "'Corn',\n",
    "'Crisphead lettuce',\n",
    "'Cucumber',\n",
    "'Daikon',\n",
    "'Eggplant',\n",
    "'Endive',\n",
    "'Garlic',\n",
    "'Ginger',\n",
    "'Hot peppers',\n",
    "'Jicama Kale Kohlrabi',\n",
    "'Leaf lettuce Mushrooms Nopales',\n",
    "'Okra',\n",
    "'Onions',\n",
    "'Peas',\n",
    "'Potatoes',\n",
    "'Radishes',\n",
    "'Radicchio',\n",
    "'Romaine lettuce Shallots/Leeks',\n",
    "'Spinach',\n",
    "'Sprouts',\n",
    "'Squash',\n",
    "'Sweet potatoes',\n",
    "'Taro',\n",
    "'Tomatillo Tomatoes',\n",
    "'GROCERY LIST',\n",
    "'Qty Item',\n",
    "'Macadamia',\n",
    "'Peanuts',\n",
    "'Pecans',\n",
    "'Pine nuts',\n",
    "'Pistachios',\n",
    "'Walnuts',\n",
    "'Seeds',\n",
    "'Flax Lotus Pumpkin Sunflower',\n",
    "'Beer',\n",
    "'Club soda/Tonic Electrolyte water',\n",
    "'Juices',\n",
    "'Kombucha',\n",
    "'Liquor',\n",
    "'Mixers',\n",
    "'Soda pop Sports drink Wine',\n",
    "'Dairy & Cheese Almond butter Almond milk Bleu cheese Butter',\n",
    "'Cream/Soy creamer',\n",
    "'Feta',\n",
    "'Margarine/Soy marg.',\n",
    "'Milk/Soy milk Mozzarella',\n",
    "'Parmesan Provolone Rice milk Ricotta Sandwich slices Sour cream Swiss',\n",
    "'Whipped topping Yogurt/Soy yogurt',\n",
    "'Frozen',\n",
    "'Fries/Tater tots',\n",
    "'Ice cream/Soy I.C. Phyll/Puff pastry',\n",
    "'Ponsicles',\n",
    "'Cereal',\n",
    "'Chai',\n",
    "'Coffee/Filters',\n",
    "'Free-range eggs Egg substitute Lemon',\n",
    "'Pasta Pickles Tahini Tea',\n",
    "'Tempeh Tofu TVP',\n",
    "'Veggie dogs Baked',\n",
    "'Bagels/Croissants',\n",
    "'Buns/Rolls Cake',\n",
    "'Donuts/Pastries Fresh/Sliced bread Pie! Pie! Pie! Pitas',\n",
    "'Cake icing/Decorations Cake/Brownie mix Chocolate chips/Cocoa Flour',\n",
    "'Stevia',\n",
    "'Sugar',\n",
    "'Sugar substitute Vegetable shortening Yeast',\n",
    "'Vinegars',\n",
    "'Apple cider vinegar Balsamic vinegar Red wine vinegar Rice vinegar Oils',\n",
    "'Sesame oil',\n",
    "'Olive oil'\n",
    "]"
   ]
  },
  {
   "cell_type": "code",
   "execution_count": 36,
   "id": "4a97328c",
   "metadata": {},
   "outputs": [
    {
     "name": "stdout",
     "output_type": "stream",
     "text": [
      "['Vegetable Artichok', 'Arugula', 'Asparagus Avocado', 'Bamboshoots', 'Beets', 'Bell peppers', 'Bok choy', 'Broccoli', 'Brussels sprouts', 'Cabbage', 'Carrots', 'Cassava', 'Cauliflower', 'Celery', 'Chard', 'Collard greens', 'Corn', 'Crisphead lettuce', 'Cucumber', 'Daikon', 'Eggplant', 'Endive', 'Garlic', 'Ginger', 'Hot peppers', 'Jicama Kale Kohlrabi', 'Leaf lettuce Mushrooms Nopales', 'Okra', 'Onions', 'Peas', 'Potatoes', 'Radishes', 'Radicchio', 'Romaine lettuce Shallots/Leeks', 'Spinach', 'Sprouts', 'Squash', 'Sweet potatoes', 'Taro', 'Tomatillo Tomatoes', 'GROCERY LIST', 'Qty Item', 'Macadamia', 'Peanuts', 'Pecans', 'Pine nuts', 'Pistachios', 'Walnuts', 'Seeds', 'Flax Lotus Pumpkin Sunflower', 'Beer', 'Club soda/Tonic Electrolyte water', 'Juices', 'Kombucha', 'Liquor', 'Mixers', 'Soda pop Sports drink Wine', 'Dairy & Cheese Almond butter Almond milk Bleu cheese Butter', 'Cream/Soy creamer', 'Feta', 'Margarine/Soy marg.', 'Milk/Soy milk Mozzarella', 'Parmesan Provolone Rice milk Ricotta Sandwich slices Sour cream Swiss', 'Whipped topping Yogurt/Soy yogurt', 'Frozen', 'Fries/Tater tots', 'Ice cream/Soy I.C. Phyll/Puff pastry', 'Ponsicles', 'Cereal', 'Chai', 'Coffee/Filters', 'Free-range eggs Egg substitute Lemon', 'Pasta Pickles Tahini Tea', 'Tempeh Tofu TVP', 'Veggie dogs Baked', 'Bagels/Croissants', 'Buns/Rolls Cake', 'Donuts/Pastries Fresh/Sliced bread Pie! Pie! Pie! Pitas', 'Cake icing/Decorations Cake/Brownie mix Chocolate chips/Cocoa Flour', 'Stevia', 'Sugar', 'Sugar substitute Vegetable shortening Yeast', 'Vinegars', 'Apple cider vinegar Balsamic vinegar Red wine vinegar Rice vinegar Oils', 'Sesame oil', 'Olive oil']\n"
     ]
    }
   ],
   "source": [
    "print(grocery_items)"
   ]
  },
  {
   "cell_type": "code",
   "execution_count": 37,
   "id": "868f94c5",
   "metadata": {},
   "outputs": [
    {
     "name": "stdout",
     "output_type": "stream",
     "text": [
      "86\n"
     ]
    }
   ],
   "source": [
    "print(len(grocery_items))"
   ]
  },
  {
   "cell_type": "code",
   "execution_count": 38,
   "id": "ed12e00c",
   "metadata": {},
   "outputs": [
    {
     "name": "stdout",
     "output_type": "stream",
     "text": [
      "Vegetable Artichok\n"
     ]
    }
   ],
   "source": [
    "print(grocery_items[0])"
   ]
  },
  {
   "cell_type": "code",
   "execution_count": 39,
   "id": "39f70f86",
   "metadata": {},
   "outputs": [
    {
     "name": "stdout",
     "output_type": "stream",
     "text": [
      "Olive oil\n"
     ]
    }
   ],
   "source": [
    "print(grocery_items[-1])"
   ]
  },
  {
   "cell_type": "code",
   "execution_count": 40,
   "id": "4710ccb8",
   "metadata": {},
   "outputs": [
    {
     "name": "stdout",
     "output_type": "stream",
     "text": [
      "Beer\n"
     ]
    }
   ],
   "source": [
    "print(grocery_items[50])"
   ]
  },
  {
   "cell_type": "markdown",
   "id": "ecb81515",
   "metadata": {},
   "source": [
    "**************************************************\n",
    "# Changing list elements\n",
    "##############################################\n",
    "**************************************************"
   ]
  },
  {
   "cell_type": "code",
   "execution_count": 41,
   "id": "b8eec669",
   "metadata": {},
   "outputs": [
    {
     "name": "stdout",
     "output_type": "stream",
     "text": [
      "Sugar substitute Vegetable shortening Yeast\n"
     ]
    }
   ],
   "source": [
    "# fiirst we select this one grocery items \n",
    "\n",
    "print(grocery_items[81])"
   ]
  },
  {
   "cell_type": "code",
   "execution_count": 42,
   "id": "26bb4b07",
   "metadata": {},
   "outputs": [],
   "source": [
    "change_items = grocery_items[81] = 'sugar substitute'"
   ]
  },
  {
   "cell_type": "code",
   "execution_count": 43,
   "id": "5c5ee974",
   "metadata": {},
   "outputs": [
    {
     "name": "stdout",
     "output_type": "stream",
     "text": [
      "sugar substitute\n"
     ]
    }
   ],
   "source": [
    "print(change_items)"
   ]
  },
  {
   "cell_type": "code",
   "execution_count": 44,
   "id": "72d6fa7f",
   "metadata": {},
   "outputs": [
    {
     "name": "stdout",
     "output_type": "stream",
     "text": [
      "sugar substitute\n"
     ]
    }
   ],
   "source": [
    "print(grocery_items[81])"
   ]
  },
  {
   "cell_type": "markdown",
   "id": "b86afc12",
   "metadata": {},
   "source": [
    "### Done 👆👍"
   ]
  },
  {
   "cell_type": "markdown",
   "id": "6e658caf",
   "metadata": {},
   "source": [
    "***********************************************\n",
    "## Even if we have made a mistake in spelling, we can change it easily.\n",
    "\n",
    "   ### now we change two 2️⃣ grocery _items spelling\n",
    "**********************************************"
   ]
  },
  {
   "cell_type": "code",
   "execution_count": 45,
   "id": "aa14b46d",
   "metadata": {},
   "outputs": [
    {
     "name": "stdout",
     "output_type": "stream",
     "text": [
      "['Vegetable Artichok', 'Arugula']\n"
     ]
    }
   ],
   "source": [
    "# first again we print this items \n",
    "\n",
    "print(grocery_items[0:2])\n"
   ]
  },
  {
   "cell_type": "code",
   "execution_count": 46,
   "id": "976fbbf3",
   "metadata": {},
   "outputs": [],
   "source": [
    "change_items2 = grocery_items[0:2] = ['Vegetables Artichoke', 'Arugulas']"
   ]
  },
  {
   "cell_type": "code",
   "execution_count": 47,
   "id": "a11931d0",
   "metadata": {},
   "outputs": [
    {
     "name": "stdout",
     "output_type": "stream",
     "text": [
      "['Vegetables Artichoke', 'Arugulas']\n"
     ]
    }
   ],
   "source": [
    "print(change_items2)"
   ]
  },
  {
   "cell_type": "code",
   "execution_count": 48,
   "id": "5abc1fd0",
   "metadata": {},
   "outputs": [
    {
     "name": "stdout",
     "output_type": "stream",
     "text": [
      "['Vegetables Artichoke', 'Arugulas']\n"
     ]
    }
   ],
   "source": [
    "print(grocery_items[0:2])"
   ]
  },
  {
   "cell_type": "markdown",
   "id": "7e2243b0",
   "metadata": {},
   "source": [
    "**********************************************************\n",
    "\n",
    "# Adding and removing elements\n",
    "\n",
    "###########################################################\n",
    "\n",
    "***********************************************************"
   ]
  },
  {
   "cell_type": "code",
   "execution_count": 65,
   "id": "59c34249",
   "metadata": {},
   "outputs": [
    {
     "name": "stdout",
     "output_type": "stream",
     "text": [
      "['Vegetables Artichoke', 'Arugulas', 'Asparagus Avocado', 'Bamboshoots', 'Beets', 'Bell peppers', 'Bok choy', 'Broccoli', 'Brussels sprouts', 'Cabbage', 'Carrots', 'Cassava', 'Cauliflower', 'Celery', 'Chard', 'Collard greens', 'Corn', 'Crisphead lettuce', 'Cucumber', 'Daikon', 'Eggplant', 'Endive', 'Garlic', 'Ginger', 'Hot peppers', 'Jicama Kale Kohlrabi', 'Leaf lettuce Mushrooms Nopales', 'Okra', 'Onions', 'Peas', 'Potatoes', 'Radishes', 'Radicchio', 'Romaine lettuce Shallots/Leeks', 'Spinach', 'Sprouts', 'Squash', 'Sweet potatoes', 'Taro', 'Tomatillo Tomatoes', 'GROCERY LIST', 'Qty Item', 'Macadamia', 'Peanuts', 'Pecans', 'Pine nuts', 'Pistachios', 'Walnuts', 'Seeds', 'Flax Lotus Pumpkin Sunflower', 'Beer', 'Club soda/Tonic Electrolyte water', 'Juices', 'Kombucha', 'Liquor', 'Mixers', 'Soda pop Sports drink Wine', 'Dairy & Cheese Almond butter Almond milk Bleu cheese Butter', 'Cream/Soy creamer', 'Feta', 'Margarine/Soy marg.', 'Milk/Soy milk Mozzarella', 'Parmesan Provolone Rice milk Ricotta Sandwich slices Sour cream Swiss', 'Whipped topping Yogurt/Soy yogurt', 'Frozen', 'Fries/Tater tots', 'Ice cream/Soy I.C. Phyll/Puff pastry', 'Ponsicles', 'Cereal', 'Chai', 'Coffee/Filters', 'Free-range eggs Egg substitute Lemon', 'beans', ' beans', 'Pasta Pickles Tahini Tea', 'Tempeh Tofu TVP', 'Veggie dogs Baked', 'Bagels/Croissants', 'Buns/Rolls Cake', 'Donuts/Pastries Fresh/Sliced bread Pie! Pie! Pie! Pitas', 'Cake icing/Decorations Cake/Brownie mix Chocolate chips/Cocoa Flour', 'Stevia', 'Sugar', 'sugar substitute', 'Vinegars', 'Apple cider vinegar Balsamic vinegar Red wine vinegar Rice vinegar Oils', 'Sesame oil', 'Olive oil', 'Pasta', 'Pasta']\n"
     ]
    }
   ],
   "source": [
    "#we add this items in our grocery items\n",
    "\n",
    "grocery_items.append('Pasta')\n",
    "print(grocery_items)\n"
   ]
  },
  {
   "cell_type": "code",
   "execution_count": 73,
   "id": "3443a83f",
   "metadata": {},
   "outputs": [
    {
     "name": "stdout",
     "output_type": "stream",
     "text": [
      "rice\n",
      "['Vegetables Artichoke', 'Arugulas', 'Asparagus Avocado', 'Bamboshoots', 'Beets', 'Bell peppers', 'Bok choy', 'Broccoli', 'Brussels sprouts', 'Cabbage', 'Carrots', 'Cassava', 'Cauliflower', 'Celery', 'Chard', 'Collard greens', 'Corn', 'Crisphead lettuce', 'Cucumber', 'Daikon', 'Eggplant', 'Endive', 'Garlic', 'Ginger', 'Hot peppers', 'Jicama Kale Kohlrabi', 'Leaf lettuce Mushrooms Nopales', 'Okra', 'Onions', 'Peas', 'Potatoes', 'Radishes', 'Radicchio', 'Romaine lettuce Shallots/Leeks', 'Spinach', 'Sprouts', 'Squash', 'Sweet potatoes', 'Taro', 'Tomatillo Tomatoes', 'GROCERY LIST', 'Qty Item', 'Macadamia', 'Peanuts', 'Pecans', 'Pine nuts', 'Pistachios', 'Walnuts', 'Seeds', 'Flax Lotus Pumpkin Sunflower', 'Beer', 'Club soda/Tonic Electrolyte water', 'Juices', 'Kombucha', 'Liquor', 'rice', 'rice', 'Mixers', 'Soda pop Sports drink Wine', 'Dairy & Cheese Almond butter Almond milk Bleu cheese Butter', 'Cream/Soy creamer', 'Feta', 'Margarine/Soy marg.', 'Milk/Soy milk Mozzarella', 'Parmesan Provolone Rice milk Ricotta Sandwich slices Sour cream Swiss', 'Whipped topping Yogurt/Soy yogurt', 'Frozen', 'Fries/Tater tots', 'Ice cream/Soy I.C. Phyll/Puff pastry', 'Ponsicles', 'Cereal', 'Chai', 'Coffee/Filters', 'Free-range eggs Egg substitute Lemon', 'rice', 'rice', 'rice', 'rice', 'beans', ' beans', 'Pasta Pickles Tahini Tea', 'Tempeh Tofu TVP', 'Veggie dogs Baked', 'Bagels/Croissants', 'Buns/Rolls Cake', 'Donuts/Pastries Fresh/Sliced bread Pie! Pie! Pie! Pitas', 'Cake icing/Decorations Cake/Brownie mix Chocolate chips/Cocoa Flour', 'Stevia', 'Sugar', 'sugar substitute', 'Vinegars', 'Apple cider vinegar Balsamic vinegar Red wine vinegar Rice vinegar Oils', 'Sesame oil', 'Olive oil', 'Pasta', 'Pasta']\n"
     ]
    }
   ],
   "source": [
    "grocery_items.insert(55, 'rice')\n",
    "print(grocery_items[55])\n",
    "print(grocery_items)"
   ]
  },
  {
   "cell_type": "code",
   "execution_count": 72,
   "id": "54d31cf9",
   "metadata": {},
   "outputs": [
    {
     "name": "stdout",
     "output_type": "stream",
     "text": [
      "['Beer', 'Club soda/Tonic Electrolyte water', 'Juices', 'Kombucha', 'Liquor', 'rice', 'Mixers']\n"
     ]
    }
   ],
   "source": [
    "print(grocery_items[50:57])"
   ]
  },
  {
   "cell_type": "code",
   "execution_count": 74,
   "id": "ce07eb4c",
   "metadata": {},
   "outputs": [
    {
     "name": "stdout",
     "output_type": "stream",
     "text": [
      "['Asparagus Avocado', 'Bamboshoots', 'Beets', 'Bell peppers', 'Bok choy', 'Broccoli', 'Brussels sprouts', 'Cabbage', 'Carrots', 'Cassava', 'Cauliflower', 'Celery', 'Chard', 'Collard greens', 'Corn', 'Crisphead lettuce', 'Cucumber', 'Daikon', 'Eggplant', 'Endive', 'Garlic', 'Ginger', 'Hot peppers', 'Jicama Kale Kohlrabi', 'Leaf lettuce Mushrooms Nopales', 'Okra', 'Onions', 'Peas', 'Potatoes', 'Radishes', 'Radicchio', 'Romaine lettuce Shallots/Leeks', 'Spinach', 'Sprouts', 'Squash', 'Sweet potatoes', 'Taro', 'Tomatillo Tomatoes', 'GROCERY LIST', 'Qty Item', 'Macadamia', 'Peanuts', 'Pecans', 'Pine nuts', 'Pistachios', 'Walnuts', 'Seeds', 'Flax Lotus Pumpkin Sunflower', 'Beer', 'Club soda/Tonic Electrolyte water', 'Juices', 'Kombucha', 'Liquor', 'rice', 'rice', 'Mixers', 'Soda pop Sports drink Wine', 'Dairy & Cheese Almond butter Almond milk Bleu cheese Butter', 'Cream/Soy creamer', 'Feta', 'Margarine/Soy marg.', 'Milk/Soy milk Mozzarella', 'Parmesan Provolone Rice milk Ricotta Sandwich slices Sour cream Swiss', 'Whipped topping Yogurt/Soy yogurt', 'Frozen', 'Fries/Tater tots', 'Ice cream/Soy I.C. Phyll/Puff pastry', 'Ponsicles', 'Cereal', 'Chai', 'Coffee/Filters', 'Free-range eggs Egg substitute Lemon', 'rice', 'rice', 'rice', 'rice', 'beans', ' beans', 'Pasta Pickles Tahini Tea', 'Tempeh Tofu TVP', 'Veggie dogs Baked', 'Bagels/Croissants', 'Buns/Rolls Cake', 'Donuts/Pastries Fresh/Sliced bread Pie! Pie! Pie! Pitas', 'Cake icing/Decorations Cake/Brownie mix Chocolate chips/Cocoa Flour', 'Stevia', 'Sugar', 'sugar substitute', 'Vinegars', 'Apple cider vinegar Balsamic vinegar Red wine vinegar Rice vinegar Oils', 'Sesame oil', 'Olive oil', 'Pasta', 'Pasta']\n"
     ]
    }
   ],
   "source": [
    "# remove this items \n",
    "\n",
    "del(grocery_items[0 : 2])\n",
    "print(grocery_items)"
   ]
  },
  {
   "cell_type": "code",
   "execution_count": null,
   "id": "3b7af820",
   "metadata": {},
   "outputs": [],
   "source": []
  }
 ],
 "metadata": {
  "kernelspec": {
   "display_name": "Python 3 (ipykernel)",
   "language": "python",
   "name": "python3"
  },
  "language_info": {
   "codemirror_mode": {
    "name": "ipython",
    "version": 3
   },
   "file_extension": ".py",
   "mimetype": "text/x-python",
   "name": "python",
   "nbconvert_exporter": "python",
   "pygments_lexer": "ipython3",
   "version": "3.10.9"
  }
 },
 "nbformat": 4,
 "nbformat_minor": 5
}
